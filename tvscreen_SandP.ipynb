{
 "cells": [
  {
   "cell_type": "code",
   "execution_count": 5,
   "metadata": {},
   "outputs": [],
   "source": [
    "import cv2\n",
    "import numpy as np \n",
    "import matplotlib.pyplot as plt\n",
    "import random\n",
    "from PIL import Image, ImageDraw\n",
    "import imageio\n",
    "\n",
    "\n",
    "tvscreen = []\n",
    "\n",
    "for m in range(40):\n",
    "    tv = cv2.imread('tv.jpg', cv2.IMREAD_GRAYSCALE)\n",
    "    roi = tv[22:284, 22:490]\n",
    "    noisysc = np.zeros((roi.shape[0], roi.shape[1]), dtype='uint8')\n",
    "    row, col = noisysc.shape\n",
    "    for i in range(1, row-1):\n",
    "        for j in range(1, col-1):\n",
    "            noisysc[i][j] = random.choice([0, 255])\n",
    "    tv[22:284, 22:490] = noisysc\n",
    "    tvscreen.append(tv)\n",
    "    \n",
    "imageio.mimwrite('tvscreen.gif', tvscreen)"
   ]
  },
  {
   "cell_type": "code",
   "execution_count": null,
   "metadata": {},
   "outputs": [],
   "source": []
  }
 ],
 "metadata": {
  "kernelspec": {
   "display_name": "Python 3",
   "language": "python",
   "name": "python3"
  },
  "language_info": {
   "codemirror_mode": {
    "name": "ipython",
    "version": 3
   },
   "file_extension": ".py",
   "mimetype": "text/x-python",
   "name": "python",
   "nbconvert_exporter": "python",
   "pygments_lexer": "ipython3",
   "version": "3.7.6"
  }
 },
 "nbformat": 4,
 "nbformat_minor": 4
}
